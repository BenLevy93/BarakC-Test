{
 "cells": [
  {
   "cell_type": "code",
   "execution_count": 1486,
   "metadata": {},
   "outputs": [],
   "source": [
    "import pandas as pd\n",
    "import numpy as np\n",
    "from scipy import stats\n",
    "import matplotlib.pyplot as plt\n",
    "from datetime import datetime\n",
    "\n",
    "stock1 = pd.read_csv('./security1.csv')\n",
    "stock2 = pd.read_csv('./security2.csv')\n",
    "\n",
    "def format_my_nanos(nanos):\n",
    "    dt = datetime.fromtimestamp(nanos / 1e9)\n",
    "    return dt"
   ]
  },
  {
   "cell_type": "code",
   "execution_count": 1487,
   "metadata": {},
   "outputs": [
    {
     "data": {
      "text/html": [
       "<div>\n",
       "<style scoped>\n",
       "    .dataframe tbody tr th:only-of-type {\n",
       "        vertical-align: middle;\n",
       "    }\n",
       "\n",
       "    .dataframe tbody tr th {\n",
       "        vertical-align: top;\n",
       "    }\n",
       "\n",
       "    .dataframe thead th {\n",
       "        text-align: right;\n",
       "    }\n",
       "</style>\n",
       "<table border=\"1\" class=\"dataframe\">\n",
       "  <thead>\n",
       "    <tr style=\"text-align: right;\">\n",
       "      <th></th>\n",
       "      <th>Time</th>\n",
       "      <th>Price</th>\n",
       "      <th>TimeFixed</th>\n",
       "    </tr>\n",
       "  </thead>\n",
       "  <tbody>\n",
       "    <tr>\n",
       "      <th>0</th>\n",
       "      <td>1.520607e+18</td>\n",
       "      <td>2753.455357</td>\n",
       "      <td>2018-03-09 16:45:00.006340</td>\n",
       "    </tr>\n",
       "    <tr>\n",
       "      <th>1</th>\n",
       "      <td>1.520607e+18</td>\n",
       "      <td>2753.455357</td>\n",
       "      <td>2018-03-09 16:45:00.006340</td>\n",
       "    </tr>\n",
       "    <tr>\n",
       "      <th>2</th>\n",
       "      <td>1.520607e+18</td>\n",
       "      <td>2753.457831</td>\n",
       "      <td>2018-03-09 16:45:00.006384</td>\n",
       "    </tr>\n",
       "    <tr>\n",
       "      <th>3</th>\n",
       "      <td>1.520607e+18</td>\n",
       "      <td>2753.460366</td>\n",
       "      <td>2018-03-09 16:45:00.006467</td>\n",
       "    </tr>\n",
       "    <tr>\n",
       "      <th>4</th>\n",
       "      <td>1.520607e+18</td>\n",
       "      <td>2753.462963</td>\n",
       "      <td>2018-03-09 16:45:00.006810</td>\n",
       "    </tr>\n",
       "  </tbody>\n",
       "</table>\n",
       "</div>"
      ],
      "text/plain": [
       "           Time        Price                  TimeFixed\n",
       "0  1.520607e+18  2753.455357 2018-03-09 16:45:00.006340\n",
       "1  1.520607e+18  2753.455357 2018-03-09 16:45:00.006340\n",
       "2  1.520607e+18  2753.457831 2018-03-09 16:45:00.006384\n",
       "3  1.520607e+18  2753.460366 2018-03-09 16:45:00.006467\n",
       "4  1.520607e+18  2753.462963 2018-03-09 16:45:00.006810"
      ]
     },
     "metadata": {},
     "output_type": "display_data"
    },
    {
     "data": {
      "text/html": [
       "<div>\n",
       "<style scoped>\n",
       "    .dataframe tbody tr th:only-of-type {\n",
       "        vertical-align: middle;\n",
       "    }\n",
       "\n",
       "    .dataframe tbody tr th {\n",
       "        vertical-align: top;\n",
       "    }\n",
       "\n",
       "    .dataframe thead th {\n",
       "        text-align: right;\n",
       "    }\n",
       "</style>\n",
       "<table border=\"1\" class=\"dataframe\">\n",
       "  <thead>\n",
       "    <tr style=\"text-align: right;\">\n",
       "      <th></th>\n",
       "      <th>Time</th>\n",
       "      <th>Price</th>\n",
       "      <th>TimeFixed</th>\n",
       "    </tr>\n",
       "  </thead>\n",
       "  <tbody>\n",
       "    <tr>\n",
       "      <th>0</th>\n",
       "      <td>1.520607e+18</td>\n",
       "      <td>275.528330</td>\n",
       "      <td>2018-03-09 16:45:00.017839</td>\n",
       "    </tr>\n",
       "    <tr>\n",
       "      <th>1</th>\n",
       "      <td>1.520607e+18</td>\n",
       "      <td>275.528330</td>\n",
       "      <td>2018-03-09 16:45:00.017839</td>\n",
       "    </tr>\n",
       "    <tr>\n",
       "      <th>2</th>\n",
       "      <td>1.520607e+18</td>\n",
       "      <td>275.528569</td>\n",
       "      <td>2018-03-09 16:45:00.017916</td>\n",
       "    </tr>\n",
       "    <tr>\n",
       "      <th>3</th>\n",
       "      <td>1.520607e+18</td>\n",
       "      <td>275.528330</td>\n",
       "      <td>2018-03-09 16:45:00.017945</td>\n",
       "    </tr>\n",
       "    <tr>\n",
       "      <th>4</th>\n",
       "      <td>1.520607e+18</td>\n",
       "      <td>275.527496</td>\n",
       "      <td>2018-03-09 16:45:00.044900</td>\n",
       "    </tr>\n",
       "  </tbody>\n",
       "</table>\n",
       "</div>"
      ],
      "text/plain": [
       "           Time       Price                  TimeFixed\n",
       "0  1.520607e+18  275.528330 2018-03-09 16:45:00.017839\n",
       "1  1.520607e+18  275.528330 2018-03-09 16:45:00.017839\n",
       "2  1.520607e+18  275.528569 2018-03-09 16:45:00.017916\n",
       "3  1.520607e+18  275.528330 2018-03-09 16:45:00.017945\n",
       "4  1.520607e+18  275.527496 2018-03-09 16:45:00.044900"
      ]
     },
     "metadata": {},
     "output_type": "display_data"
    }
   ],
   "source": [
    "stock1['TimeFixed'] = stock1['Time'].apply(lambda x:format_my_nanos(x));\n",
    "# stock1 = stock1.drop_duplicates(subset='Time', keep=\"first\")\n",
    "stock1.reset_index(drop=True, inplace=True)\n",
    "stock2['TimeFixed'] = stock2['Time'].apply(lambda x:format_my_nanos(x));\n",
    "# stock2 = stock2.drop_duplicates(subset='Time', keep=\"first\")\n",
    "stock2.reset_index(drop=True, inplace=True)\n",
    "stock1 = stock1.sort_values(by=['Time'])\n",
    "stock2 = stock2.sort_values(by=['Time'])\n",
    "display(stock1.head())\n",
    "\n",
    "display(stock2.head())"
   ]
  },
  {
   "cell_type": "markdown",
   "metadata": {},
   "source": [
    "# Stocks graph "
   ]
  },
  {
   "cell_type": "code",
   "execution_count": 1488,
   "metadata": {},
   "outputs": [
    {
     "data": {
      "image/png": "[encoded data removed]",
      "text/plain": [
       "<Figure size 432x288 with 1 Axes>"
      ]
     },
     "metadata": {
      "needs_background": "light"
     },
     "output_type": "display_data"
    },
    {
     "data": {
      "image/png": "[encoded data removed]",
      "text/plain": [
       "<Figure size 432x288 with 1 Axes>"
      ]
     },
     "metadata": {
      "needs_background": "light"
     },
     "output_type": "display_data"
    }
   ],
   "source": [
    "stock1.plot(kind='scatter',x='Time',y='Price',color='blue',label=\"stock1\")\n",
    "plt.show()\n",
    "stock2.plot(kind='scatter',x='Time',y='Price',color='red',label=\"stock2\")\n",
    "plt.show()"
   ]
  },
  {
   "cell_type": "markdown",
   "metadata": {},
   "source": [
    "Looks almost identical"
   ]
  },
  {
   "cell_type": "markdown",
   "metadata": {},
   "source": [
    "# Stats"
   ]
  },
  {
   "cell_type": "markdown",
   "metadata": {},
   "source": [
    "Stock 1 :"
   ]
  },
  {
   "cell_type": "code",
   "execution_count": 1489,
   "metadata": {},
   "outputs": [
    {
     "name": "stdout",
     "output_type": "stream",
     "text": [
      "Mean :2758.5368153549575\n",
      "Variance :9.323891469086846\n",
      "Std :3.0535047845200514\n"
     ]
    }
   ],
   "source": [
    "print(\"Mean :\" + str(stock1['Price'].mean()) )\n",
    "print(\"Variance :\" + str(stock1['Price'].var()) )\n",
    "print(\"Std :\" + str(stock1['Price'].std()) )"
   ]
  },
  {
   "cell_type": "code",
   "execution_count": 1490,
   "metadata": {},
   "outputs": [
    {
     "data": {
      "text/plain": [
       "Time                        1.52061e+18\n",
       "Price                           2764.24\n",
       "TimeFixed    2018-03-09 17:22:45.604903\n",
       "Name: 194106, dtype: object"
      ]
     },
     "execution_count": 1490,
     "metadata": {},
     "output_type": "execute_result"
    }
   ],
   "source": [
    "stock1.loc[stock1['Price'].idxmax()]"
   ]
  },
  {
   "cell_type": "code",
   "execution_count": 1491,
   "metadata": {},
   "outputs": [
    {
     "data": {
      "text/plain": [
       "Time                        1.52061e+18\n",
       "Price                            2752.5\n",
       "TimeFixed    2018-03-09 16:46:19.972284\n",
       "Name: 13677, dtype: object"
      ]
     },
     "execution_count": 1491,
     "metadata": {},
     "output_type": "execute_result"
    }
   ],
   "source": [
    "stock1.loc[stock1['Price'].idxmin()]"
   ]
  },
  {
   "cell_type": "markdown",
   "metadata": {},
   "source": [
    "Stock2:"
   ]
  },
  {
   "cell_type": "code",
   "execution_count": 1492,
   "metadata": {},
   "outputs": [
    {
     "name": "stdout",
     "output_type": "stream",
     "text": [
      "Mean :276.0657842062767\n",
      "Variance :0.08795830578572998\n",
      "Std :0.29657765557393223\n"
     ]
    }
   ],
   "source": [
    "print(\"Mean :\" + str(stock2['Price'].mean()) )\n",
    "print(\"Variance :\" + str(stock2['Price'].var()) )\n",
    "print(\"Std :\" + str(stock2['Price'].std()) )"
   ]
  },
  {
   "cell_type": "code",
   "execution_count": 1493,
   "metadata": {},
   "outputs": [
    {
     "data": {
      "text/plain": [
       "Time                        1.52061e+18\n",
       "Price                           276.609\n",
       "TimeFixed    2018-03-09 17:21:18.708740\n",
       "Name: 62841, dtype: object"
      ]
     },
     "execution_count": 1493,
     "metadata": {},
     "output_type": "execute_result"
    }
   ],
   "source": [
    "stock2.loc[stock2['Price'].idxmax()]"
   ]
  },
  {
   "cell_type": "code",
   "execution_count": 1494,
   "metadata": {},
   "outputs": [
    {
     "data": {
      "text/plain": [
       "Time                        1.52061e+18\n",
       "Price                           275.435\n",
       "TimeFixed    2018-03-09 16:46:19.655760\n",
       "Name: 3342, dtype: object"
      ]
     },
     "execution_count": 1494,
     "metadata": {},
     "output_type": "execute_result"
    }
   ],
   "source": [
    "stock2.loc[stock2['Price'].idxmin()]"
   ]
  },
  {
   "cell_type": "markdown",
   "metadata": {},
   "source": [
    "Correlation pearson:"
   ]
  },
  {
   "cell_type": "code",
   "execution_count": 1495,
   "metadata": {},
   "outputs": [
    {
     "data": {
      "text/plain": [
       "Time     0.998476\n",
       "Price    0.794877\n",
       "dtype: float64"
      ]
     },
     "execution_count": 1495,
     "metadata": {},
     "output_type": "execute_result"
    }
   ],
   "source": [
    "stock1.corrwith(stock2, axis = 0) "
   ]
  },
  {
   "cell_type": "code",
   "execution_count": 1496,
   "metadata": {
    "scrolled": true
   },
   "outputs": [
    {
     "name": "stdout",
     "output_type": "stream",
     "text": [
      "         Time_x      Price_x                  TimeFixed        Time_y     Price_y\n",
      "0  1.520607e+18  2754.789823 2018-03-09 16:45:12.798534  1.520607e+18  275.655056\n",
      "1  1.520607e+18  2753.194215 2018-03-09 16:46:01.694506  1.520607e+18  275.504234\n",
      "2  1.520607e+18  2754.005495 2018-03-09 16:46:52.582804  1.520607e+18  275.593017\n",
      "3  1.520607e+18  2753.694444 2018-03-09 16:47:22.518252  1.520607e+18  275.578891\n",
      "4  1.520607e+18  2753.694444 2018-03-09 16:47:22.518252  1.520607e+18  275.573330\n"
     ]
    }
   ],
   "source": [
    "intersected_time = pd.merge(stock1, stock2,on=['TimeFixed'], how='inner')\n",
    "print(intersected_time.head())"
   ]
  },
  {
   "cell_type": "code",
   "execution_count": 1497,
   "metadata": {
    "scrolled": true
   },
   "outputs": [
    {
     "name": "stdout",
     "output_type": "stream",
     "text": [
      "           Time        Price                  TimeFixed\n",
      "0  1.520607e+18  2753.455357 2018-03-09 16:45:00.006340\n",
      "1  1.520607e+18  2753.455357 2018-03-09 16:45:00.006340\n",
      "2  1.520607e+18  2753.457831 2018-03-09 16:45:00.006384\n",
      "3  1.520607e+18  2753.460366 2018-03-09 16:45:00.006467\n",
      "4  1.520607e+18  2753.462963 2018-03-09 16:45:00.006810\n"
     ]
    }
   ],
   "source": [
    "timeCombined = [stock1,stock2]\n",
    "res = pd.concat(timeCombined,ignore_index=True)\n",
    "print(res.head())"
   ]
  },
  {
   "cell_type": "code",
   "execution_count": 1498,
   "metadata": {},
   "outputs": [
    {
     "data": {
      "image/png": "[encoded data removed]",
      "text/plain": [
       "<Figure size 432x288 with 1 Axes>"
      ]
     },
     "metadata": {
      "needs_background": "light"
     },
     "output_type": "display_data"
    }
   ],
   "source": [
    "res.plot(kind='scatter',x='Time',y='Price',color='blue')\n",
    "plt.show()"
   ]
  },
  {
   "cell_type": "markdown",
   "metadata": {},
   "source": [
    "As we can see its hard to see both stocks on the same graph therefore we will make them closer by multiply stock 2 by 10"
   ]
  },
  {
   "cell_type": "code",
   "execution_count": 1499,
   "metadata": {
    "scrolled": false
   },
   "outputs": [
    {
     "name": "stdout",
     "output_type": "stream",
     "text": [
      "Mean :2760.6578420627593\n",
      "Variance :8.795830578572753\n",
      "Std :2.9657765557392812\n"
     ]
    }
   ],
   "source": [
    "stock3 = stock2\n",
    "stock3['Price'] = stock2['Price'].apply(lambda x: x * 10);\n",
    "print(\"Mean :\" + str(stock3['Price'].mean()) )\n",
    "print(\"Variance :\" + str(stock3['Price'].var()) )\n",
    "print(\"Std :\" + str(stock3['Price'].std()) )"
   ]
  },
  {
   "cell_type": "markdown",
   "metadata": {},
   "source": [
    "Stats very close to stock 1...."
   ]
  },
  {
   "cell_type": "code",
   "execution_count": 1500,
   "metadata": {},
   "outputs": [
    {
     "data": {
      "text/html": [
       "<div>\n",
       "<style scoped>\n",
       "    .dataframe tbody tr th:only-of-type {\n",
       "        vertical-align: middle;\n",
       "    }\n",
       "\n",
       "    .dataframe tbody tr th {\n",
       "        vertical-align: top;\n",
       "    }\n",
       "\n",
       "    .dataframe thead th {\n",
       "        text-align: right;\n",
       "    }\n",
       "</style>\n",
       "<table border=\"1\" class=\"dataframe\">\n",
       "  <thead>\n",
       "    <tr style=\"text-align: right;\">\n",
       "      <th></th>\n",
       "      <th>Time</th>\n",
       "      <th>Price</th>\n",
       "      <th>TimeFixed</th>\n",
       "    </tr>\n",
       "  </thead>\n",
       "  <tbody>\n",
       "    <tr>\n",
       "      <th>1</th>\n",
       "      <td>1.520607e+18</td>\n",
       "      <td>2753.455357</td>\n",
       "      <td>2018-03-09 16:45:00.006340</td>\n",
       "    </tr>\n",
       "    <tr>\n",
       "      <th>15</th>\n",
       "      <td>1.520607e+18</td>\n",
       "      <td>2753.305000</td>\n",
       "      <td>2018-03-09 16:45:00.013727</td>\n",
       "    </tr>\n",
       "    <tr>\n",
       "      <th>13</th>\n",
       "      <td>1.520607e+18</td>\n",
       "      <td>2753.277500</td>\n",
       "      <td>2018-03-09 16:45:00.013727</td>\n",
       "    </tr>\n",
       "    <tr>\n",
       "      <th>14</th>\n",
       "      <td>1.520607e+18</td>\n",
       "      <td>2753.500000</td>\n",
       "      <td>2018-03-09 16:45:00.013727</td>\n",
       "    </tr>\n",
       "    <tr>\n",
       "      <th>220556</th>\n",
       "      <td>1.520607e+18</td>\n",
       "      <td>2755.283305</td>\n",
       "      <td>2018-03-09 16:45:00.017839</td>\n",
       "    </tr>\n",
       "  </tbody>\n",
       "</table>\n",
       "</div>"
      ],
      "text/plain": [
       "                Time        Price                  TimeFixed\n",
       "1       1.520607e+18  2753.455357 2018-03-09 16:45:00.006340\n",
       "15      1.520607e+18  2753.305000 2018-03-09 16:45:00.013727\n",
       "13      1.520607e+18  2753.277500 2018-03-09 16:45:00.013727\n",
       "14      1.520607e+18  2753.500000 2018-03-09 16:45:00.013727\n",
       "220556  1.520607e+18  2755.283305 2018-03-09 16:45:00.017839"
      ]
     },
     "metadata": {},
     "output_type": "display_data"
    }
   ],
   "source": [
    "duplicateRowsDF = resNew[resNew.duplicated(['Time'])]\n",
    "display(duplicateRowsDF.head())"
   ]
  },
  {
   "cell_type": "markdown",
   "metadata": {},
   "source": [
    "There are alot of sampels which have the same epoch time ( on the same stock ) but have diffrent price, for example lines 13-15"
   ]
  },
  {
   "cell_type": "code",
   "execution_count": 1501,
   "metadata": {},
   "outputs": [
    {
     "name": "stdout",
     "output_type": "stream",
     "text": [
      "            Time      Price_x                TimeFixed_x      Price_y                TimeFixed_y\n",
      "0   1.520607e+18  2753.194215 2018-03-09 16:46:01.694506  2755.042341 2018-03-09 16:46:01.694506\n",
      "1   1.520607e+18  2754.005495 2018-03-09 16:46:52.582804  2755.930169 2018-03-09 16:46:52.582804\n",
      "2   1.520607e+18  2753.694444 2018-03-09 16:47:22.518252  2755.788913 2018-03-09 16:47:22.518252\n",
      "3   1.520607e+18  2753.694444 2018-03-09 16:47:22.518252  2755.733303 2018-03-09 16:47:22.518252\n",
      "4   1.520607e+18  2754.687963 2018-03-09 16:48:30.537997  2756.554538 2018-03-09 16:48:30.537997\n",
      "5   1.520607e+18  2757.532186 2018-03-09 16:51:14.592989  2759.229651 2018-03-09 16:51:14.592989\n",
      "6   1.520607e+18  2757.609477 2018-03-09 16:52:00.336464  2759.249781 2018-03-09 16:52:00.336464\n",
      "7   1.520607e+18  2757.310166 2018-03-09 16:53:06.598199  2759.489490 2018-03-09 16:53:06.598199\n",
      "8   1.520607e+18  2757.176230 2018-03-09 16:53:07.626130  2759.459920 2018-03-09 16:53:07.626130\n",
      "9   1.520608e+18  2756.101223 2018-03-09 17:03:41.420524  2758.105294 2018-03-09 17:03:41.420524\n",
      "10  1.520608e+18  2759.496847 2018-03-09 17:08:09.935466  2761.140803 2018-03-09 17:08:09.935466\n",
      "11  1.520608e+18  2760.028670 2018-03-09 17:11:02.708689  2761.877617 2018-03-09 17:11:02.708689\n",
      "12  1.520608e+18  2759.476115 2018-03-09 17:12:25.617902  2761.450043 2018-03-09 17:12:25.617902\n",
      "13  1.520608e+18  2760.440415 2018-03-09 17:13:33.842176  2762.300207 2018-03-09 17:13:33.842176\n",
      "14  1.520608e+18  2761.909958 2018-03-09 17:14:54.166314  2763.885716 2018-03-09 17:14:54.166314\n",
      "15  1.520609e+18  2762.520325 2018-03-09 17:19:23.956675  2764.716307 2018-03-09 17:19:23.956675\n"
     ]
    }
   ],
   "source": [
    "intersected_time = pd.merge(stock1, stock2,on=['Time'], how='inner')\n",
    "print(intersected_time)"
   ]
  },
  {
   "cell_type": "markdown",
   "metadata": {},
   "source": [
    "As we can see here, Both stocks share 16 point that measured on the same time."
   ]
  },
  {
   "cell_type": "markdown",
   "metadata": {},
   "source": [
    "# Stocks on the same graph after modification"
   ]
  },
  {
   "cell_type": "code",
   "execution_count": 1502,
   "metadata": {
    "scrolled": true
   },
   "outputs": [
    {
     "data": {
      "image/png": "[encoded data removed]",
      "text/plain": [
       "<Figure size 1440x1440 with 1 Axes>"
      ]
     },
     "metadata": {
      "needs_background": "light"
     },
     "output_type": "display_data"
    }
   ],
   "source": [
    "\n",
    "test = [stock1,stock3]\n",
    "\n",
    "resNew = pd.concat(test,ignore_index=True)\n",
    "resNew = resNew.sort_values(by=['Time'])\n",
    "resNew.plot(kind='scatter',x='Time',y='Price',color='blue',figsize=(20,20), label=\"up -> stock 2\")\n",
    "\n",
    "plt.show()"
   ]
  },
  {
   "cell_type": "markdown",
   "metadata": {},
   "source": [
    "Here we can see the stocks price = f(time), it looks almost as if its the same stock...\n",
    "Stock 1 (bottom) looks like its leading....\n",
    "I wonder if its the same stock on diffrent exchage, arbitrage "
   ]
  },
  {
   "cell_type": "markdown",
   "metadata": {},
   "source": [
    "#  Split the data into batches "
   ]
  },
  {
   "cell_type": "markdown",
   "metadata": {},
   "source": [
    "Here I split the data into batches and calc from each batch min and max.\n",
    "As min and max are points which tell us that the stock change direction.\n",
    "So I tried to find points that occur close to each other (between the stocks)."
   ]
  },
  {
   "cell_type": "code",
   "execution_count": 1503,
   "metadata": {},
   "outputs": [],
   "source": [
    "stock1.reset_index(drop=True, inplace=True)\n",
    "stock2.reset_index(drop=True, inplace=True)\n",
    "size = 4500\n",
    "list_of_stock1 = [stock1.loc[i:i+size-1,:] for i in range(0, len(stock1),size)]\n",
    "size = 1500\n",
    "list_of_stock2 = [stock2.loc[i:i+size-1,:] for i in range(0, len(stock2),size)]"
   ]
  },
  {
   "cell_type": "code",
   "execution_count": 1504,
   "metadata": {},
   "outputs": [
    {
     "data": {
      "text/html": [
       "<div>\n",
       "<style scoped>\n",
       "    .dataframe tbody tr th:only-of-type {\n",
       "        vertical-align: middle;\n",
       "    }\n",
       "\n",
       "    .dataframe tbody tr th {\n",
       "        vertical-align: top;\n",
       "    }\n",
       "\n",
       "    .dataframe thead th {\n",
       "        text-align: right;\n",
       "    }\n",
       "</style>\n",
       "<table border=\"1\" class=\"dataframe\">\n",
       "  <thead>\n",
       "    <tr style=\"text-align: right;\">\n",
       "      <th></th>\n",
       "      <th>StartTime Interval</th>\n",
       "      <th>End Time Interval</th>\n",
       "      <th>Max Value</th>\n",
       "      <th>Max Value Time</th>\n",
       "      <th>Min Value</th>\n",
       "      <th>Min Value Time</th>\n",
       "    </tr>\n",
       "  </thead>\n",
       "  <tbody>\n",
       "    <tr>\n",
       "      <th>0</th>\n",
       "      <td>2018-03-09 16:45:00.006340</td>\n",
       "      <td>2018-03-09 16:45:23.187370</td>\n",
       "      <td>2755.246528</td>\n",
       "      <td>2018-03-09 16:45:17.849284</td>\n",
       "      <td>2753.251429</td>\n",
       "      <td>2018-03-09 16:45:00.131236</td>\n",
       "    </tr>\n",
       "    <tr>\n",
       "      <th>1</th>\n",
       "      <td>2018-03-09 16:45:23.187553</td>\n",
       "      <td>2018-03-09 16:45:48.596299</td>\n",
       "      <td>2754.242424</td>\n",
       "      <td>2018-03-09 16:45:23.239817</td>\n",
       "      <td>2753.005208</td>\n",
       "      <td>2018-03-09 16:45:33.860218</td>\n",
       "    </tr>\n",
       "    <tr>\n",
       "      <th>2</th>\n",
       "      <td>2018-03-09 16:45:48.596451</td>\n",
       "      <td>2018-03-09 16:46:19.040804</td>\n",
       "      <td>2753.989130</td>\n",
       "      <td>2018-03-09 16:45:57.584087</td>\n",
       "      <td>2752.504902</td>\n",
       "      <td>2018-03-09 16:46:18.755257</td>\n",
       "    </tr>\n",
       "    <tr>\n",
       "      <th>3</th>\n",
       "      <td>2018-03-09 16:46:19.040956</td>\n",
       "      <td>2018-03-09 16:46:53.636217</td>\n",
       "      <td>2754.451613</td>\n",
       "      <td>2018-03-09 16:46:53.634924</td>\n",
       "      <td>2752.504601</td>\n",
       "      <td>2018-03-09 16:46:19.972284</td>\n",
       "    </tr>\n",
       "    <tr>\n",
       "      <th>4</th>\n",
       "      <td>2018-03-09 16:46:53.636225</td>\n",
       "      <td>2018-03-09 16:47:26.703041</td>\n",
       "      <td>2754.747845</td>\n",
       "      <td>2018-03-09 16:47:03.102608</td>\n",
       "      <td>2753.256757</td>\n",
       "      <td>2018-03-09 16:47:24.531002</td>\n",
       "    </tr>\n",
       "  </tbody>\n",
       "</table>\n",
       "</div>"
      ],
      "text/plain": [
       "          StartTime Interval          End Time Interval    Max Value             Max Value Time    Min Value             Min Value Time\n",
       "0 2018-03-09 16:45:00.006340 2018-03-09 16:45:23.187370  2755.246528 2018-03-09 16:45:17.849284  2753.251429 2018-03-09 16:45:00.131236\n",
       "1 2018-03-09 16:45:23.187553 2018-03-09 16:45:48.596299  2754.242424 2018-03-09 16:45:23.239817  2753.005208 2018-03-09 16:45:33.860218\n",
       "2 2018-03-09 16:45:48.596451 2018-03-09 16:46:19.040804  2753.989130 2018-03-09 16:45:57.584087  2752.504902 2018-03-09 16:46:18.755257\n",
       "3 2018-03-09 16:46:19.040956 2018-03-09 16:46:53.636217  2754.451613 2018-03-09 16:46:53.634924  2752.504601 2018-03-09 16:46:19.972284\n",
       "4 2018-03-09 16:46:53.636225 2018-03-09 16:47:26.703041  2754.747845 2018-03-09 16:47:03.102608  2753.256757 2018-03-09 16:47:24.531002"
      ]
     },
     "metadata": {},
     "output_type": "display_data"
    },
    {
     "data": {
      "text/plain": [
       "50"
      ]
     },
     "execution_count": 1504,
     "metadata": {},
     "output_type": "execute_result"
    }
   ],
   "source": [
    "def arrMinMax(myList):\n",
    "    arr1 = [None] * len(myList)\n",
    "    for idx,list in enumerate(myList):\n",
    "        arr1[idx] =[list.TimeFixed.min(),list.TimeFixed.max(),list.Price.max(),list.loc[list['Price'].idxmax()]['TimeFixed'],\n",
    "                    list.Price.min(),list.loc[list['Price'].idxmin()]['TimeFixed']] \n",
    "    \n",
    "    data = pd.DataFrame(arr1, columns = ['StartTime Interval','End Time Interval','Max Value',\n",
    "                                         'Max Value Time','Min Value','Min Value Time']) \n",
    "    return data\n",
    "\n",
    "list_min_max1 = arrMinMax(list_of_stock1)\n",
    "list_min_max1.loc[list_min_max1['Max Value'].idxmin()]\n",
    "display(list_min_max1.head())\n",
    "len(list_min_max1)"
   ]
  },
  {
   "cell_type": "code",
   "execution_count": 1505,
   "metadata": {},
   "outputs": [
    {
     "data": {
      "text/html": [
       "<div>\n",
       "<style scoped>\n",
       "    .dataframe tbody tr th:only-of-type {\n",
       "        vertical-align: middle;\n",
       "    }\n",
       "\n",
       "    .dataframe tbody tr th {\n",
       "        vertical-align: top;\n",
       "    }\n",
       "\n",
       "    .dataframe thead th {\n",
       "        text-align: right;\n",
       "    }\n",
       "</style>\n",
       "<table border=\"1\" class=\"dataframe\">\n",
       "  <thead>\n",
       "    <tr style=\"text-align: right;\">\n",
       "      <th></th>\n",
       "      <th>StartTime Interval</th>\n",
       "      <th>End Time Interval</th>\n",
       "      <th>Max Value</th>\n",
       "      <th>Max Value Time</th>\n",
       "      <th>Min Value</th>\n",
       "      <th>Min Value Time</th>\n",
       "    </tr>\n",
       "  </thead>\n",
       "  <tbody>\n",
       "    <tr>\n",
       "      <th>0</th>\n",
       "      <td>2018-03-09 16:45:00.017839</td>\n",
       "      <td>2018-03-09 16:45:30.458011</td>\n",
       "      <td>2757.149407</td>\n",
       "      <td>2018-03-09 16:45:16.163459</td>\n",
       "      <td>2755.204385</td>\n",
       "      <td>2018-03-09 16:45:01.706746</td>\n",
       "    </tr>\n",
       "    <tr>\n",
       "      <th>1</th>\n",
       "      <td>2018-03-09 16:45:30.458011</td>\n",
       "      <td>2018-03-09 16:46:12.018839</td>\n",
       "      <td>2756.100006</td>\n",
       "      <td>2018-03-09 16:45:40.654685</td>\n",
       "      <td>2755.005192</td>\n",
       "      <td>2018-03-09 16:46:07.443958</td>\n",
       "    </tr>\n",
       "    <tr>\n",
       "      <th>2</th>\n",
       "      <td>2018-03-09 16:46:12.018868</td>\n",
       "      <td>2018-03-09 16:46:52.341686</td>\n",
       "      <td>2756.024857</td>\n",
       "      <td>2018-03-09 16:46:51.416835</td>\n",
       "      <td>2754.349925</td>\n",
       "      <td>2018-03-09 16:46:19.655760</td>\n",
       "    </tr>\n",
       "    <tr>\n",
       "      <th>3</th>\n",
       "      <td>2018-03-09 16:46:52.341686</td>\n",
       "      <td>2018-03-09 16:47:37.468836</td>\n",
       "      <td>2756.506025</td>\n",
       "      <td>2018-03-09 16:47:11.809947</td>\n",
       "      <td>2755.407762</td>\n",
       "      <td>2018-03-09 16:47:24.048224</td>\n",
       "    </tr>\n",
       "    <tr>\n",
       "      <th>4</th>\n",
       "      <td>2018-03-09 16:47:37.468870</td>\n",
       "      <td>2018-03-09 16:48:31.185195</td>\n",
       "      <td>2757.188907</td>\n",
       "      <td>2018-03-09 16:48:24.208297</td>\n",
       "      <td>2755.349960</td>\n",
       "      <td>2018-03-09 16:47:38.316804</td>\n",
       "    </tr>\n",
       "  </tbody>\n",
       "</table>\n",
       "</div>"
      ],
      "text/plain": [
       "          StartTime Interval          End Time Interval    Max Value             Max Value Time    Min Value             Min Value Time\n",
       "0 2018-03-09 16:45:00.017839 2018-03-09 16:45:30.458011  2757.149407 2018-03-09 16:45:16.163459  2755.204385 2018-03-09 16:45:01.706746\n",
       "1 2018-03-09 16:45:30.458011 2018-03-09 16:46:12.018839  2756.100006 2018-03-09 16:45:40.654685  2755.005192 2018-03-09 16:46:07.443958\n",
       "2 2018-03-09 16:46:12.018868 2018-03-09 16:46:52.341686  2756.024857 2018-03-09 16:46:51.416835  2754.349925 2018-03-09 16:46:19.655760\n",
       "3 2018-03-09 16:46:52.341686 2018-03-09 16:47:37.468836  2756.506025 2018-03-09 16:47:11.809947  2755.407762 2018-03-09 16:47:24.048224\n",
       "4 2018-03-09 16:47:37.468870 2018-03-09 16:48:31.185195  2757.188907 2018-03-09 16:48:24.208297  2755.349960 2018-03-09 16:47:38.316804"
      ]
     },
     "metadata": {},
     "output_type": "display_data"
    },
    {
     "data": {
      "text/plain": [
       "51"
      ]
     },
     "execution_count": 1505,
     "metadata": {},
     "output_type": "execute_result"
    }
   ],
   "source": [
    "list_min_max2 = arrMinMax(list_of_stock2)\n",
    "display(list_min_max2.head())\n",
    "len(list_min_max2)"
   ]
  },
  {
   "cell_type": "code",
   "execution_count": 1506,
   "metadata": {},
   "outputs": [],
   "source": [
    "def maxTimes(myList,col):\n",
    "    arr1 = [None] * len(myList)\n",
    "    for idx,list in myList.iterrows():\n",
    "        arr1[idx] = list[col]\n",
    "    \n",
    "    return arr1\n",
    "\n",
    "max1 = maxTimes(list_min_max1,'Max Value Time')\n",
    "min1 = maxTimes(list_min_max1,'Min Value Time')"
   ]
  },
  {
   "cell_type": "code",
   "execution_count": 1507,
   "metadata": {},
   "outputs": [],
   "source": [
    "max2 = maxTimes(list_min_max2,'Max Value Time')\n",
    "min2 = maxTimes(list_min_max2,'Min Value Time')"
   ]
  },
  {
   "cell_type": "code",
   "execution_count": 1508,
   "metadata": {},
   "outputs": [],
   "source": [
    "def removerNone(arr):\n",
    "    res = [] \n",
    "    for val in arr: \n",
    "        if val != None : \n",
    "            res.append(val) \n",
    "    return res"
   ]
  },
  {
   "cell_type": "markdown",
   "metadata": {},
   "source": [
    "Look for points that occur on the same sec for example -> max point of stock1 and corresponding max point of stock2"
   ]
  },
  {
   "cell_type": "code",
   "execution_count": 1509,
   "metadata": {},
   "outputs": [
    {
     "data": {
      "text/html": [
       "<div>\n",
       "<style scoped>\n",
       "    .dataframe tbody tr th:only-of-type {\n",
       "        vertical-align: middle;\n",
       "    }\n",
       "\n",
       "    .dataframe tbody tr th {\n",
       "        vertical-align: top;\n",
       "    }\n",
       "\n",
       "    .dataframe thead th {\n",
       "        text-align: right;\n",
       "    }\n",
       "</style>\n",
       "<table border=\"1\" class=\"dataframe\">\n",
       "  <thead>\n",
       "    <tr style=\"text-align: right;\">\n",
       "      <th></th>\n",
       "      <th>First</th>\n",
       "      <th>Second</th>\n",
       "    </tr>\n",
       "  </thead>\n",
       "  <tbody>\n",
       "    <tr>\n",
       "      <th>0</th>\n",
       "      <td>2018-03-09 16:55:28.224888</td>\n",
       "      <td>2018-03-09 16:55:28.618601</td>\n",
       "    </tr>\n",
       "    <tr>\n",
       "      <th>1</th>\n",
       "      <td>2018-03-09 17:01:21.870661</td>\n",
       "      <td>2018-03-09 17:01:22.658009</td>\n",
       "    </tr>\n",
       "    <tr>\n",
       "      <th>2</th>\n",
       "      <td>2018-03-09 17:08:23.224353</td>\n",
       "      <td>2018-03-09 17:08:23.967318</td>\n",
       "    </tr>\n",
       "    <tr>\n",
       "      <th>3</th>\n",
       "      <td>2018-03-09 17:12:08.544920</td>\n",
       "      <td>2018-03-09 17:12:08.573666</td>\n",
       "    </tr>\n",
       "    <tr>\n",
       "      <th>4</th>\n",
       "      <td>2018-03-09 17:14:19.885070</td>\n",
       "      <td>2018-03-09 17:14:20.728502</td>\n",
       "    </tr>\n",
       "  </tbody>\n",
       "</table>\n",
       "</div>"
      ],
      "text/plain": [
       "                       First                     Second\n",
       "0 2018-03-09 16:55:28.224888 2018-03-09 16:55:28.618601\n",
       "1 2018-03-09 17:01:21.870661 2018-03-09 17:01:22.658009\n",
       "2 2018-03-09 17:08:23.224353 2018-03-09 17:08:23.967318\n",
       "3 2018-03-09 17:12:08.544920 2018-03-09 17:12:08.573666\n",
       "4 2018-03-09 17:14:19.885070 2018-03-09 17:14:20.728502"
      ]
     },
     "execution_count": 1509,
     "metadata": {},
     "output_type": "execute_result"
    }
   ],
   "source": [
    "def matchP(first,sec):\n",
    "    arr = [None] * (len(first) + len(sec))\n",
    "    count = 0\n",
    "    for i in range(len(first)):\n",
    "        for j in range(len(sec)):\n",
    "            dif =(sec[j] - first[i]).total_seconds() \n",
    "            if ((dif < 1) and ( dif > 0)):\n",
    "                arr[count] = ((first[i],sec[j]))\n",
    "                count = count +1\n",
    "    return removerNone(arr)\n",
    "\n",
    "max12 = matchP(max1,max2)\n",
    "min12 = matchP(min1,min2)\n",
    "\n",
    "max21 = matchP(max2,max1)\n",
    "min21 = matchP(min2,min1)\n",
    "pd.DataFrame(max21, columns = ['First','Second']).head() "
   ]
  },
  {
   "cell_type": "markdown",
   "metadata": {},
   "source": [
    "Calc the diffrance beteen these points in microseconds"
   ]
  },
  {
   "cell_type": "code",
   "execution_count": 1510,
   "metadata": {},
   "outputs": [
    {
     "data": {
      "text/html": [
       "<div>\n",
       "<style scoped>\n",
       "    .dataframe tbody tr th:only-of-type {\n",
       "        vertical-align: middle;\n",
       "    }\n",
       "\n",
       "    .dataframe tbody tr th {\n",
       "        vertical-align: top;\n",
       "    }\n",
       "\n",
       "    .dataframe thead th {\n",
       "        text-align: right;\n",
       "    }\n",
       "</style>\n",
       "<table border=\"1\" class=\"dataframe\">\n",
       "  <thead>\n",
       "    <tr style=\"text-align: right;\">\n",
       "      <th></th>\n",
       "      <th>Delta(micro)</th>\n",
       "    </tr>\n",
       "  </thead>\n",
       "  <tbody>\n",
       "    <tr>\n",
       "      <th>0</th>\n",
       "      <td>11.077</td>\n",
       "    </tr>\n",
       "    <tr>\n",
       "      <th>1</th>\n",
       "      <td>40.014</td>\n",
       "    </tr>\n",
       "    <tr>\n",
       "      <th>2</th>\n",
       "      <td>13.011</td>\n",
       "    </tr>\n",
       "    <tr>\n",
       "      <th>3</th>\n",
       "      <td>9.015</td>\n",
       "    </tr>\n",
       "    <tr>\n",
       "      <th>4</th>\n",
       "      <td>135.474</td>\n",
       "    </tr>\n",
       "  </tbody>\n",
       "</table>\n",
       "</div>"
      ],
      "text/plain": [
       "   Delta(micro)\n",
       "0        11.077\n",
       "1        40.014\n",
       "2        13.011\n",
       "3         9.015\n",
       "4       135.474"
      ]
     },
     "execution_count": 1510,
     "metadata": {},
     "output_type": "execute_result"
    }
   ],
   "source": [
    "def diffInMicro(list):\n",
    "    diff = [None] * len(list)\n",
    "    for i in range(len(list)):\n",
    "        diff[i] = ((list[i][1] -list[i][0]).total_seconds() * 1000 )\n",
    "     \n",
    "    return diff\n",
    "diffInMicro(max12)\n",
    "data = pd.DataFrame(diffInMicro(max12), columns = ['Delta(micro)'])\n",
    "data.head()"
   ]
  },
  {
   "cell_type": "code",
   "execution_count": 1511,
   "metadata": {},
   "outputs": [
    {
     "name": "stdout",
     "output_type": "stream",
     "text": [
      "stock1 before stock2 :  18\n",
      "stock2 before stock1 :  14\n"
     ]
    }
   ],
   "source": [
    "lead1 = np.concatenate((diffInMicro(max12), diffInMicro(min12)), axis=0)\n",
    "lead2 = np.concatenate((diffInMicro(max21), diffInMicro(min21)), axis=0)\n",
    "print(\"stock1 before stock2 : \", len(lead1))\n",
    "print(\"stock2 before stock1 : \", len(lead2))"
   ]
  },
  {
   "cell_type": "markdown",
   "metadata": {},
   "source": [
    "Therefore, we can conclude that stock1 is leading and stock2 is following"
   ]
  },
  {
   "cell_type": "markdown",
   "metadata": {},
   "source": [
    "# Time difference"
   ]
  },
  {
   "cell_type": "markdown",
   "metadata": {},
   "source": [
    "Took the avarege time of those points (in microseconds), in order to determine the delta between the stocks."
   ]
  },
  {
   "cell_type": "code",
   "execution_count": 1512,
   "metadata": {},
   "outputs": [
    {
     "data": {
      "text/plain": [
       "298.35572222222225"
      ]
     },
     "execution_count": 1512,
     "metadata": {},
     "output_type": "execute_result"
    }
   ],
   "source": [
    "np.mean(lead1)"
   ]
  },
  {
   "cell_type": "markdown",
   "metadata": {},
   "source": [
    "Stock 1 is ahead by 300 microseconds"
   ]
  },
  {
   "cell_type": "code",
   "execution_count": 1513,
   "metadata": {},
   "outputs": [],
   "source": [
    "# np.mean(lead2)"
   ]
  },
  {
   "cell_type": "markdown",
   "metadata": {},
   "source": [
    "As I read about latency arbitrage ,  I learned there is a known delay of 350 microseconds between Chicago and Nyc , therefore its seems like stock1 is closer to that \"famous\" delay!"
   ]
  }
 ],
 "metadata": {
  "kernelspec": {
   "display_name": "Python 3",
   "language": "python",
   "name": "python3"
  },
  "language_info": {
   "codemirror_mode": {
    "name": "ipython",
    "version": 3
   },
   "file_extension": ".py",
   "mimetype": "text/x-python",
   "name": "python",
   "nbconvert_exporter": "python",
   "pygments_lexer": "ipython3",
   "version": "3.7.0"
  }
 },
 "nbformat": 4,
 "nbformat_minor": 2
}
